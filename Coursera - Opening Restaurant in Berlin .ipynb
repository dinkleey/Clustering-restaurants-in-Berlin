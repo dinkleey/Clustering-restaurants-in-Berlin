{
 "cells": [
  {
   "cell_type": "markdown",
   "metadata": {},
   "source": [
    "# Opening restaurant in Berlin"
   ]
  },
  {
   "cell_type": "markdown",
   "metadata": {},
   "source": [
    "## 1. Introduction/Business Problem"
   ]
  },
  {
   "cell_type": "markdown",
   "metadata": {},
   "source": [
    "> An exclusivist Canadian restauranteur that has a strong presence in North American HoReCa is looking to expand reach into European markets. After considering several Western European capitals for the opening of its first unit in the continent, the chain management has selected Berlin as the first stop. As part of a preliminary analysis of the HoReCa market, the management is looking at the main competition in the city, and where the competition is located. \n",
    "<br>\n",
    "<br>\n",
    "> In order to provide a complete overview of the competitive environment in Berlin, the analytic strategy is to select all restaurants in the city and cluster them based on popularity information, traffic statistics and pricing policies. A complete map of these clusters is to be presented to the management to gain a preliminary understanding of the market and potential customers.  \n"
   ]
  },
  {
   "cell_type": "markdown",
   "metadata": {},
   "source": [
    "## 2. Data description"
   ]
  },
  {
   "cell_type": "markdown",
   "metadata": {},
   "source": [
    "> A comprehensive listing of the restaurants in Berlin will be extracted from Foursquare based on Berlin latitude and longitude data. For each venue id extracted from the Foursquare database, a full overview of \n",
    "- unit popularity, \n",
    "- pricing information and \n",
    "- traffic statistics \n",
    "\n",
    ">... will be crawled from Foursquare database. \n",
    " \n",
    "> Namely, each venue ID will be associated with: a Category, CheckinsCount, usersCount, tipCount, rating, number of likes, number of dislikes, and price perceptions. Once the above variables are preprocessed (dummy coding, scaling where necessary/available), the restaurants in Berlin area will be clustered using Kmeans algorithm. The resulting clusters will be plotted on a map using Folium to depict areas with high competition and market potential. "
   ]
  },
  {
   "cell_type": "code",
   "execution_count": null,
   "metadata": {},
   "outputs": [],
   "source": []
  }
 ],
 "metadata": {
  "kernelspec": {
   "display_name": "Python 3",
   "language": "python",
   "name": "python3"
  },
  "language_info": {
   "codemirror_mode": {
    "name": "ipython",
    "version": 3
   },
   "file_extension": ".py",
   "mimetype": "text/x-python",
   "name": "python",
   "nbconvert_exporter": "python",
   "pygments_lexer": "ipython3",
   "version": "3.6.4"
  }
 },
 "nbformat": 4,
 "nbformat_minor": 2
}
